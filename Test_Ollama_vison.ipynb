{
 "cells": [
  {
   "cell_type": "code",
   "execution_count": 2,
   "id": "23f38676-958e-4d48-91ff-7639b88b4ca7",
   "metadata": {},
   "outputs": [
    {
     "name": "stdout",
     "output_type": "stream",
     "text": [
      "model='llama3.2-vision' created_at='2024-12-29T17:18:22.436290425Z' done=True done_reason='stop' total_duration=203761169735 load_duration=38090710497 prompt_eval_count=18 prompt_eval_duration=154838000000 eval_count=40 eval_duration=10091000000 message=Message(role='assistant', content='There appears to be a tree, and possibly some grass or other vegetation in the foreground. The sky has pink clouds that suggest sunrise or sunset. There may also be some fog on the horizon.', images=None, tool_calls=None)\n"
     ]
    }
   ],
   "source": [
    "import ollama\n",
    "\n",
    "response = ollama.chat(\n",
    "    model='llama3.2-vision',\n",
    "    messages=[{\n",
    "        'role': 'user',\n",
    "        'content': 'What is in this image?',\n",
    "        'images': ['tree.jpg']\n",
    "    }]\n",
    ")\n",
    "\n",
    "print(response)"
   ]
  },
  {
   "cell_type": "code",
   "execution_count": 3,
   "id": "02bee54f-9ce9-47ce-89cc-1b7e5e5452a3",
   "metadata": {},
   "outputs": [
    {
     "data": {
      "text/plain": [
       "Message(role='assistant', content='There appears to be a tree, and possibly some grass or other vegetation in the foreground. The sky has pink clouds that suggest sunrise or sunset. There may also be some fog on the horizon.', images=None, tool_calls=None)"
      ]
     },
     "execution_count": 3,
     "metadata": {},
     "output_type": "execute_result"
    }
   ],
   "source": [
    "response.message"
   ]
  },
  {
   "cell_type": "code",
   "execution_count": 4,
   "id": "6591c0f1-bbc8-4072-a4cb-44217048b394",
   "metadata": {},
   "outputs": [
    {
     "data": {
      "text/plain": [
       "'There appears to be a tree, and possibly some grass or other vegetation in the foreground. The sky has pink clouds that suggest sunrise or sunset. There may also be some fog on the horizon.'"
      ]
     },
     "execution_count": 4,
     "metadata": {},
     "output_type": "execute_result"
    }
   ],
   "source": [
    "response.message.content"
   ]
  },
  {
   "cell_type": "code",
   "execution_count": 7,
   "id": "2eb3d4f0-37a6-405b-81b1-05eab7a304bd",
   "metadata": {},
   "outputs": [
    {
     "name": "stdout",
     "output_type": "stream",
     "text": [
      "model='llama3.2-vision' created_at='2024-12-29T18:13:44.113491291Z' done=True done_reason='stop' total_duration=229528109637 load_duration=16644748810 prompt_eval_count=25 prompt_eval_duration=209347000000 eval_count=14 eval_duration=3235000000 message=Message(role='assistant', content='The votes are 8 for Music and 3 for Science.', images=None, tool_calls=None)\n"
     ]
    }
   ],
   "source": [
    "import ollama\n",
    "\n",
    "response = ollama.chat(\n",
    "    model='llama3.2-vision',\n",
    "    messages=[{\n",
    "        'role': 'user',\n",
    "        'content': 'What is in this image?',\n",
    "        'images': ['IMG-20180205-WA0002.jpg']\n",
    "    }]\n",
    ")\n",
    "\n",
    "print(response)"
   ]
  },
  {
   "cell_type": "code",
   "execution_count": 17,
   "id": "f54ef99b-62af-4506-9a88-83e3368d04a5",
   "metadata": {},
   "outputs": [],
   "source": [
    "from typing import List\n",
    "\n",
    "from pydantic import BaseModel\n",
    "\n",
    "class Materia (BaseModel):\n",
    "    nome: str\n",
    "    valutazione: int\n",
    "    assenze: int\n",
    "\n",
    "class Pagella(BaseModel):\n",
    "    nome_alunno: str\n",
    "    materie: List[Materia]\n"
   ]
  },
  {
   "cell_type": "code",
   "execution_count": 18,
   "id": "f0d65794-0006-4c4a-a3d9-729e7bb3f648",
   "metadata": {},
   "outputs": [
    {
     "name": "stdout",
     "output_type": "stream",
     "text": [
      "nome_alunno='ANDREA SONCINI' materie=[Materia(nome='MATERIA ITALIANO', valutazione=8, assenze=3), Materia(nome='INGLESE', valutazione=8, assenze=0), Materia(nome='STORIA', valutazione=8, assenze=0), Materia(nome='GEOGRAFIA', valutazione=8, assenze=0), Materia(nome='MATEMATICA', valutazione=8, assenze=3), Materia(nome='SCIENZE', valutazione=8, assenze=0), Materia(nome='TECNOLIGIA', valutazione=8, assenze=0), Materia(nome='MUSICA', valutazione=8, assenze=0), Materia(nome='ARTE E IMMACINE', valutazione=8, assenze=1), Materia(nome='ATTIVITA MOTORIE E SPORTIVE', valutazione=8, assenze=0), Materia(nome='COMPORTAMENTO', valutazione=1, assenze=0), Materia(nome='RELIGIONE', valutazione=1, assenze=0)]\n"
     ]
    }
   ],
   "source": [
    "prompt = \"\"\"\n",
    "You are a data visual parsing assistant. \n",
    "In the image there is a report card of an italian student.\n",
    "Ratings are the ones in green boxes.\n",
    "Your goal is to output its content as JSON.\n",
    "\"\"\"\n",
    "\n",
    "messages = [\n",
    "    {\"role\": \"system\", \"content\": prompt,\n",
    "     \"images\": ['IMG-20180205-WA0002.jpg']},\n",
    "    \n",
    "#    {\"role\": \"user\", \"content\": message},\n",
    "  \n",
    "]\n",
    "\n",
    "response = ollama.chat(\n",
    "    messages=messages,\n",
    "    model='llama3.2-vision',\n",
    "    # Enable structured ouput capability\n",
    "    format=Pagella.model_json_schema(),\n",
    ")\n",
    "\n",
    "pagella = Pagella.model_validate_json(response.message.content)\n",
    "print(pagella)"
   ]
  },
  {
   "cell_type": "code",
   "execution_count": null,
   "id": "a881a397-4a5c-4c63-a620-8c4a785d29d0",
   "metadata": {},
   "outputs": [],
   "source": []
  }
 ],
 "metadata": {
  "kernelspec": {
   "display_name": "langchain_env",
   "language": "python",
   "name": "langchain_env"
  },
  "language_info": {
   "codemirror_mode": {
    "name": "ipython",
    "version": 3
   },
   "file_extension": ".py",
   "mimetype": "text/x-python",
   "name": "python",
   "nbconvert_exporter": "python",
   "pygments_lexer": "ipython3",
   "version": "3.12.3"
  }
 },
 "nbformat": 4,
 "nbformat_minor": 5
}
