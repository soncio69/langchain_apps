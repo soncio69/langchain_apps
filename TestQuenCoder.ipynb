{
 "cells": [
  {
   "cell_type": "code",
   "execution_count": 1,
   "id": "d074bda4-ced8-4ae2-8384-d1de52ca58ea",
   "metadata": {},
   "outputs": [],
   "source": [
    "from ollama import chat\n",
    "import os"
   ]
  },
  {
   "cell_type": "code",
   "execution_count": 8,
   "id": "f17fcbd7-d8fd-427e-b18e-75afd6f46b2f",
   "metadata": {},
   "outputs": [],
   "source": [
    "def eval(prompt: str, message: str, model: str = \"qwen2.5-coder:3b\"):\n",
    "    \n",
    "    messages = [\n",
    "        {\"role\": \"system\", \"content\": prompt},\n",
    "        {\"role\": \"user\", \"content\": message},\n",
    "    ]\n",
    "\n",
    "    response = chat(\n",
    "        messages=messages,\n",
    "        model=model,\n",
    "        format=\"json\",\n",
    "    )\n",
    "    return response"
   ]
  },
  {
   "cell_type": "code",
   "execution_count": 5,
   "id": "7749135a-e22a-45d2-ace5-148f4dcd5430",
   "metadata": {},
   "outputs": [
    {
     "name": "stdout",
     "output_type": "stream",
     "text": [
      "{\n",
      "  \"query\": \"SELECT * FROM USERS;\"\n",
      "}\n"
     ]
    }
   ],
   "source": [
    "prompt = \"\"\"\n",
    "You are a sql coder. \n",
    "Your goal is to output queries as JSON.\n",
    "\"\"\"\n",
    "message = \"Provide a query to extract all rows from table USERS.\"\n",
    "\n",
    "res = eval(prompt=prompt, message=message)\n",
    "\n",
    "json_data = res['message']['content']\n",
    "\n",
    "print(json_data)"
   ]
  },
  {
   "cell_type": "code",
   "execution_count": 6,
   "id": "8584fa63-1a85-48dd-8d46-7af69fe2ee7f",
   "metadata": {},
   "outputs": [
    {
     "name": "stdout",
     "output_type": "stream",
     "text": [
      "{'properties': {'query': {'title': 'Query', 'type': 'string'}}, 'required': ['query'], 'title': 'Query', 'type': 'object'}\n"
     ]
    }
   ],
   "source": [
    "from pydantic import BaseModel\n",
    "\n",
    "class Query (BaseModel):\n",
    "    query: str\n",
    "\n",
    "print(Query.model_json_schema())\n"
   ]
  },
  {
   "cell_type": "code",
   "execution_count": 10,
   "id": "817651be-be16-4875-87f2-efc4bcac71d1",
   "metadata": {},
   "outputs": [
    {
     "name": "stdout",
     "output_type": "stream",
     "text": [
      "query='SELECT * FROM USERS'\n"
     ]
    }
   ],
   "source": [
    "messages = [\n",
    "            {\"role\": \"system\", \"content\": prompt},\n",
    "            {\"role\": \"user\", \"content\": message},\n",
    "        ]\n",
    "\n",
    "response = chat(\n",
    "    messages=messages,\n",
    "    model= \"llama3.2:3b-instruct-fp16\",\n",
    "    # Enable structured ouput capability\n",
    "    format=Query.model_json_schema(),\n",
    ")\n",
    "\n",
    "query = Query.model_validate_json(response.message.content)\n",
    "print(query)"
   ]
  },
  {
   "cell_type": "code",
   "execution_count": null,
   "id": "39b09e74-8c17-4005-9dad-2d44ac9d2aec",
   "metadata": {},
   "outputs": [],
   "source": []
  }
 ],
 "metadata": {
  "kernelspec": {
   "display_name": "langchain_env",
   "language": "python",
   "name": "langchain_env"
  },
  "language_info": {
   "codemirror_mode": {
    "name": "ipython",
    "version": 3
   },
   "file_extension": ".py",
   "mimetype": "text/x-python",
   "name": "python",
   "nbconvert_exporter": "python",
   "pygments_lexer": "ipython3",
   "version": "3.12.3"
  }
 },
 "nbformat": 4,
 "nbformat_minor": 5
}
