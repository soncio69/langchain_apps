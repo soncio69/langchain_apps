{
 "cells": [
  {
   "cell_type": "markdown",
   "id": "9319c4ae-9b79-481c-be7c-9fa7ab3679de",
   "metadata": {},
   "source": [
    "# Research Agent\n",
    "\n",
    "Questo notebook implementa un agent di ricerca \"semplice\" utilizzando Langgraph e il nuovo modello cinese Deepseek-r1.\n"
   ]
  },
  {
   "cell_type": "markdown",
   "id": "b6834b60-d8b3-44ab-9cb8-63c44d0c5c68",
   "metadata": {},
   "source": [
    "https://youtu.be/nRBiD_7l2Mg?si=DaE34157U7X1Hm8Y\n",
    "\n",
    "Dal momento che la prima versione di deepseek-r1 non supporta i tools, utilizzo langraph per creare uno stateful agent.\n",
    "\n",
    "L'iter del processo consiste nei seguenti step:\n",
    "- l'utente inserisce una domanda o un argomento\n",
    "- sulla base di questa domanda facciamo una ricerca su internet\n",
    "- sulla base delle risposte ottenute viene restituito un summary all'utente\n",
    "\n"
   ]
  },
  {
   "cell_type": "code",
   "execution_count": 57,
   "id": "c34f1ec2-d3cc-4977-a3d7-52041762a02d",
   "metadata": {},
   "outputs": [
    {
     "name": "stdout",
     "output_type": "stream",
     "text": [
      "NAME                                  ID              SIZE      MODIFIED     \n",
      "nomic-embed-text:latest               0a109f422b47    274 MB    3 days ago      \n",
      "MFDoom/deepseek-r1-tool-calling:7b    2410129d448f    4.7 GB    5 days ago      \n",
      "deepseek-r1:latest                    0a8c26691023    4.7 GB    6 days ago      \n",
      "qwen2.5-coder:3b                      e7149271c296    1.9 GB    2 weeks ago     \n",
      "sqlcoder:latest                       77ac14348387    4.1 GB    2 months ago    \n",
      "llama3.2-vision:latest                38107a0cd119    7.9 GB    2 months ago    \n",
      "llama3.2:3b-instruct-fp16             195a8c01d91e    6.4 GB    4 months ago    \n",
      "llama3.2:latest                       a80c4f17acd5    2.0 GB    4 months ago    \n"
     ]
    }
   ],
   "source": [
    "!ollama list"
   ]
  },
  {
   "cell_type": "code",
   "execution_count": 58,
   "id": "47287d01-f641-48e4-91ce-c34aa8abc7a9",
   "metadata": {},
   "outputs": [],
   "source": [
    "from itertools import chain\n",
    "from re import search\n",
    "\n",
    "#import streamlit as st\n",
    "\n",
    "from langchain_ollama import ChatOllama\n",
    "from langchain_community.tools.tavily_search import TavilySearchResults\n",
    "from langgraph.graph import START, END, StateGraph\n",
    "from langchain_core.prompts import ChatPromptTemplate\n",
    "from typing_extensions import TypedDict\n",
    "import re"
   ]
  },
  {
   "cell_type": "code",
   "execution_count": 59,
   "id": "971dd336-b058-4b16-b8cd-6a6c0c6589f1",
   "metadata": {},
   "outputs": [
    {
     "data": {
      "text/plain": [
       "'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'"
      ]
     },
     "execution_count": 59,
     "metadata": {},
     "output_type": "execute_result"
    }
   ],
   "source": [
    "import os\n",
    "from dotenv import load_dotenv\n",
    "\n",
    "load_dotenv()\n",
    "os.environ[\"TAVILY_API_KEY\"]"
   ]
  },
  {
   "cell_type": "markdown",
   "id": "73e9c916-fb63-40e0-9be3-6f4327b7a2bd",
   "metadata": {},
   "source": [
    "Definisco lo stato da condividere tra i diversi nodi del grafico. <br>\n",
    "Questo stato viene passato a tutti i metodi (nodi) che costituiscono l'agent."
   ]
  },
  {
   "cell_type": "code",
   "execution_count": 60,
   "id": "06d3c83d-80f8-4925-a841-c6456939d11a",
   "metadata": {},
   "outputs": [],
   "source": [
    "class ResearchState(TypedDict):\n",
    "    query: str\n",
    "    sources: list[str]\n",
    "    web_results: list[str]\n",
    "    summarized_results: list[str]\n",
    "    response: str"
   ]
  },
  {
   "cell_type": "markdown",
   "id": "d3771f5c-6157-4616-a554-718f8154f69e",
   "metadata": {},
   "source": [
    "Definisco anche l'input e l'output del graph. Questi contengono un sottoinsieme del contenuto dello stato"
   ]
  },
  {
   "cell_type": "code",
   "execution_count": 61,
   "id": "e470d807-c8ac-4491-88af-832ed763e2ff",
   "metadata": {},
   "outputs": [],
   "source": [
    "class ResearchStateInput(TypedDict):\n",
    "    query: str\n",
    "\n",
    "class ResearchStateOutput(TypedDict):\n",
    "    sources: list[str]\n",
    "    response: str"
   ]
  },
  {
   "cell_type": "markdown",
   "id": "3d615eae-2f52-494d-9af8-5d8727bed0af",
   "metadata": {},
   "source": [
    "Definisco le diverse funzioni che costituiscono i nodi del graph. Ogni metodo riceve in input lo state e restituisce lo state stesso, arricchito con quanto prodotto dal metodo stesso. <br>\n",
    "\n",
    "La prima funzione è quella che si occupa di fare la ricerca sul web utilizzando l'API Tavily. <br>\n",
    "Riceve in input la query di ricerca dell'utente e restituisce nello stato:\n",
    "- sources (gli url estratti dalla ricerca)\n",
    "- il testo dei risultati della ricerca"
   ]
  },
  {
   "cell_type": "code",
   "execution_count": 62,
   "id": "001c6bfb-8dae-4811-b978-fa899b58e214",
   "metadata": {},
   "outputs": [],
   "source": [
    "def search_web(state: ResearchState):\n",
    "    search = TavilySearchResults(max_results=3)\n",
    "    search_results = search.invoke(state[\"query\"])\n",
    "\n",
    "    return  {\n",
    "        \"sources\": [result['url'] for result in search_results],\n",
    "        \"web_results\": [result['content'] for result in search_results]\n",
    "    }\n"
   ]
  },
  {
   "cell_type": "markdown",
   "id": "3ba8fa56-66fd-4fa2-bd30-b36fba583042",
   "metadata": {},
   "source": [
    "Questa funzione che riceve in input i risultati della ricerca e la query e, per ogni risultato di ricerca ne effettua il sommario e, dopo aver eliminato dalla risposta la sezione \"di ragionamento\" (tipica di deepseek-r1), concatena i risultati dei diversi sommari"
   ]
  },
  {
   "cell_type": "code",
   "execution_count": 63,
   "id": "74f823a2-71b8-4382-9fdc-9de1e16cf70e",
   "metadata": {},
   "outputs": [],
   "source": [
    "summary_template = \"\"\"\n",
    "Summarize the following content into a concise paragraph that directly addresses the query. Ensure the summary \n",
    "highlights the key points relevant to the query while maintaining clarity and completeness.\n",
    "Query: {query}\n",
    "Content: {content}\n",
    "\"\"\"\n",
    "\n",
    "def summarize_results(state: ResearchState):\n",
    "    model = ChatOllama(model=\"deepseek-r1\")\n",
    "    prompt = ChatPromptTemplate.from_template(summary_template)\n",
    "    chain = prompt | model\n",
    "\n",
    "    summarized_results = []\n",
    "    for content in state[\"web_results\"]:\n",
    "        summary = chain.invoke({\"query\": state[\"query\"], \"content\": content})\n",
    "        clean_content = clean_text(summary.content)\n",
    "        summarized_results.append(clean_content)\n",
    "\n",
    "    return {\n",
    "        \"summarized_results\": summarized_results\n",
    "    }\n",
    "\n",
    "\n",
    "def clean_text(text: str):\n",
    "    cleaned_text = re.sub(r\"<think>.*?</think>\", \"\", text, flags=re.DOTALL)\n",
    "    return cleaned_text.strip()"
   ]
  },
  {
   "cell_type": "markdown",
   "id": "3d79e72f-335a-422b-935f-83cf30bb64f4",
   "metadata": {},
   "source": [
    "Funzione che riceve in input la concatenazione dei diversi sommari e la domanda iniziale e crea la risposta finale."
   ]
  },
  {
   "cell_type": "code",
   "execution_count": 64,
   "id": "7ee0e1ac-d6f1-422d-af4d-183fa77d24ba",
   "metadata": {},
   "outputs": [],
   "source": [
    "generate_response_template = \"\"\"    \n",
    "Given the following user query and content, generate a response that directly answers the query using relevant \n",
    "information from the content. Ensure that the response is clear, concise, and well-structured. \n",
    "Additionally, provide a brief summary of the key points from the response. \n",
    "Question: {question} \n",
    "Context: {context} \n",
    "Answer:\n",
    "\"\"\"\n",
    "\n",
    "def generate_response(state: ResearchState):\n",
    "    model = ChatOllama(model=\"deepseek-r1\")\n",
    "    prompt = ChatPromptTemplate.from_template(generate_response_template)\n",
    "    chain = prompt | model\n",
    "\n",
    "    content = \"\\n\\n\".join([summary for summary in state[\"summarized_results\"]])\n",
    "\n",
    "    return {\n",
    "        \"response\": chain.invoke({\"question\": state[\"query\"], \"context\": content})\n",
    "    }\n"
   ]
  },
  {
   "cell_type": "markdown",
   "id": "b49cf048-6151-4734-9ba0-217fbddd9c64",
   "metadata": {},
   "source": [
    "Creo il grafico passando lo stato di input e output"
   ]
  },
  {
   "cell_type": "code",
   "execution_count": 65,
   "id": "fb5e3aec-0f67-4f7b-aa1f-24e22a7c5eb3",
   "metadata": {},
   "outputs": [],
   "source": [
    "builder = StateGraph(\n",
    "    ResearchState,\n",
    "    input=ResearchStateInput,\n",
    "    output=ResearchStateOutput\n",
    ")"
   ]
  },
  {
   "cell_type": "code",
   "execution_count": 66,
   "id": "94abbf0d-9108-4e07-befa-ca891807ddee",
   "metadata": {},
   "outputs": [],
   "source": [
    "builder.add_node(\"search_web\", search_web)\n",
    "builder.add_node(\"summarize_results\", summarize_results)\n",
    "builder.add_node(\"generate_response\", generate_response)\n",
    "\n",
    "builder.add_edge(START, \"search_web\")\n",
    "builder.add_edge(\"search_web\", \"summarize_results\")\n",
    "builder.add_edge(\"summarize_results\", \"generate_response\")\n",
    "builder.add_edge(\"generate_response\", END)\n",
    "\n",
    "graph = builder.compile()"
   ]
  },
  {
   "cell_type": "code",
   "execution_count": 67,
   "id": "0c0a459d-8b78-4a14-bd72-61cb9855dd0c",
   "metadata": {},
   "outputs": [
    {
     "data": {
      "image/png": "[encoded data removed]",
      "text/plain": [
       "<IPython.core.display.Image object>"
      ]
     },
     "metadata": {},
     "output_type": "display_data"
    }
   ],
   "source": [
    "from langgraph.graph import StateGraph\n",
    "from IPython.display import Image, display\n",
    "display(Image(graph.get_graph(xray=1).draw_mermaid_png()))"
   ]
  },
  {
   "cell_type": "code",
   "execution_count": 68,
   "id": "530365de-64db-43ac-a576-52e78eacc7eb",
   "metadata": {},
   "outputs": [
    {
     "data": {
      "text/plain": [
       "{'sources': ['https://www.rome.net/top-10',\n",
       "  'https://www.earthtrekkers.com/best-things-to-do-in-rome/',\n",
       "  'https://romesite.com/attractions.html'],\n",
       " 'response': AIMessage(content=\"<think>\\nAlright, let me tackle this query step by step. The user is asking about the best places to visit in Rome. I need to provide a clear, concise answer using relevant information from the provided context.\\n\\nFirst, looking at the content, there are several key locations highlighted:\\n\\n1. **Spanish Steps**: Located in Piazza di Spagna, it's a UNESCO site and one of Rome’s most desirable neighborhoods.\\n2. **Sant'Agnese**: Known for its ancient catacombs, offering insight into Rome's past.\\n3. **Altar of the Fatherland (Terminus de la Patrie)**: A terrace in Piazza di Spagna with panoramic views.\\n4. **Piazza Venezia**: Features the Roman Forum and sites like Temple of Venus, Temples of Romulus and Antonius, hanging doors.\\n5. **Santa Maria Maggiore**: Home to the High Altar and Nativity Crypt.\\n6. **San Pietro in Vincoli**: Another notable church.\\n7. **Ostia Antica**: An archaeological site showing remnants of the Colosseum.\\n8. **Monumento di Vittorio Emanuele II**: Located near Piazza Venezia with Italy's first king's statue.\\n9. **Archboldica di San Giovanni in Laterano**: A church known for its architecture.\\n\\nI should structure the answer to highlight these locations, grouping similar ones and emphasizing their historical significance. The Spanish Steps and Sant'Agnese can be grouped under cultural heritage, while Piazza Venezia offers iconic spots like the Roman Forum. The churches provide religious sites with rich history, Ostia Antica shows ancient Rome's engineering, and the Monument points to national pride.\\n\\nI also need to ensure each point is clear and concise, avoiding unnecessary details. Finally, a brief summary should encapsulate the key points, mentioning diversity in landmarks, cultural heritage, historical sites, and iconic monuments.\\n\\nLet me organize this into sections for better readability: Landmarks with Panoramic Views, Iconic Sites, Churches and Temples, and Historical Monuments. Each section will highlight one or two locations, making it easy to digest.\\n</think>\\n\\n### Best Places to Visit in Rome:\\n\\nRome is a city rich in history, culture, and landmarks, offering something for every type of visitor. Here are some of the top places to experience the city's timeless charm:\\n\\n1. **Spanish Steps (Terminus de la Patrie)**  \\n   Located in the picturesque Piazza di Spagna, this terrace offers stunning views of Rome's skyline. It is a UNESCO World Heritage Site and one of the most desirable neighborhoods in the city.\\n\\n2. **Sant'Agnese**  \\n   Known for its ancient catacombs, Sant'Agnese provides insight into Rome's past and is a significant spot for history enthusiasts.\\n\\n3. **Piazza Venezia**  \\n   This vibrant square is home to the historic Roman Forum and features notable sites like the Temple of Venus, Temples of Romulus and Antonius, and the hanging doors.\\n\\n4. **Santa Maria Maggiore**  \\n   This church is famous for its High Altar and Nativity Crypt, offering a glimpse into its rich religious history.\\n\\n5. **San Pietro in Vincoli**  \\n   Another notable church in Rome, known for its artistic and historical significance.\\n\\n6. **Ostia Antica**  \\n   An archaeological site that gives a glimpse into ancient Roman life, with remnants of the Colosseum and other structures.\\n\\n7. **Monumento di Vittorio Emanuele II**  \\n   Located near Piazza Venezia, this monument features the statue of Italy's first king and serves as a symbol of national pride.\\n\\n---\\n\\n### Summary:\\nRome offers a diverse range of iconic landmarks, from the Spanish Steps' panoramic views to Sant'Agnese's ancient catacombs. Explore the historic sites at Piazza Venezia, including the Roman Forum and Temples of Rome, and visit religious landmarks like Santa Maria Maggiore and San Pietro in Vincoli. Don't miss Ostia Antica for a glimpse into ancient Rome's engineering marvels and the Monumento di Vittorio Emanuele II for a symbol of Italy's rich history and culture.\\n\\nThis structured response highlights the key points, ensuring clarity and conciseness while providing a well-organized overview of Rome's top attractions.\", additional_kwargs={}, response_metadata={'model': 'deepseek-r1', 'created_at': '2025-02-04T15:27:38.833094778Z', 'done': True, 'done_reason': 'stop', 'total_duration': 150718009627, 'load_duration': 13033219, 'prompt_eval_count': 345, 'prompt_eval_duration': 15773000000, 'eval_count': 896, 'eval_duration': 134930000000, 'message': Message(role='assistant', content='', images=None, tool_calls=None)}, id='run-59bab767-6ecb-4c34-98aa-3187f5360c8f-0', usage_metadata={'input_tokens': 345, 'output_tokens': 896, 'total_tokens': 1241})}"
      ]
     },
     "execution_count": 68,
     "metadata": {},
     "output_type": "execute_result"
    }
   ],
   "source": [
    "report_topic =\"What are best place to visit in Rome?\"\n",
    "report=graph.invoke({\"query\":report_topic})\n",
    "report"
   ]
  },
  {
   "cell_type": "code",
   "execution_count": 72,
   "id": "02edf8b7-4065-4540-a441-35ef32d0d29a",
   "metadata": {},
   "outputs": [
    {
     "data": {
      "text/plain": [
       "['https://www.rome.net/top-10',\n",
       " 'https://www.earthtrekkers.com/best-things-to-do-in-rome/',\n",
       " 'https://romesite.com/attractions.html']"
      ]
     },
     "execution_count": 72,
     "metadata": {},
     "output_type": "execute_result"
    }
   ],
   "source": [
    "report['sources']"
   ]
  },
  {
   "cell_type": "code",
   "execution_count": 76,
   "id": "aa371060-3730-41bf-9eac-2da5736b8f2f",
   "metadata": {},
   "outputs": [
    {
     "name": "stdout",
     "output_type": "stream",
     "text": [
      "### Best Places to Visit in Rome:\n",
      "\n",
      "Rome is a city rich in history, culture, and landmarks, offering something for every type of visitor. Here are some of the top places to experience the city's timeless charm:\n",
      "\n",
      "1. **Spanish Steps (Terminus de la Patrie)**  \n",
      "   Located in the picturesque Piazza di Spagna, this terrace offers stunning views of Rome's skyline. It is a UNESCO World Heritage Site and one of the most desirable neighborhoods in the city.\n",
      "\n",
      "2. **Sant'Agnese**  \n",
      "   Known for its ancient catacombs, Sant'Agnese provides insight into Rome's past and is a significant spot for history enthusiasts.\n",
      "\n",
      "3. **Piazza Venezia**  \n",
      "   This vibrant square is home to the historic Roman Forum and features notable sites like the Temple of Venus, Temples of Romulus and Antonius, and the hanging doors.\n",
      "\n",
      "4. **Santa Maria Maggiore**  \n",
      "   This church is famous for its High Altar and Nativity Crypt, offering a glimpse into its rich religious history.\n",
      "\n",
      "5. **San Pietro in Vincoli**  \n",
      "   Another notable church in Rome, known for its artistic and historical significance.\n",
      "\n",
      "6. **Ostia Antica**  \n",
      "   An archaeological site that gives a glimpse into ancient Roman life, with remnants of the Colosseum and other structures.\n",
      "\n",
      "7. **Monumento di Vittorio Emanuele II**  \n",
      "   Located near Piazza Venezia, this monument features the statue of Italy's first king and serves as a symbol of national pride.\n",
      "\n",
      "---\n",
      "\n",
      "### Summary:\n",
      "Rome offers a diverse range of iconic landmarks, from the Spanish Steps' panoramic views to Sant'Agnese's ancient catacombs. Explore the historic sites at Piazza Venezia, including the Roman Forum and Temples of Rome, and visit religious landmarks like Santa Maria Maggiore and San Pietro in Vincoli. Don't miss Ostia Antica for a glimpse into ancient Rome's engineering marvels and the Monumento di Vittorio Emanuele II for a symbol of Italy's rich history and culture.\n",
      "\n",
      "This structured response highlights the key points, ensuring clarity and conciseness while providing a well-organized overview of Rome's top attractions.\n"
     ]
    }
   ],
   "source": [
    "print(clean_text(report['response'].content))"
   ]
  },
  {
   "cell_type": "code",
   "execution_count": null,
   "id": "86d64696-852f-4ee5-b85e-c25be94f190a",
   "metadata": {},
   "outputs": [],
   "source": []
  }
 ],
 "metadata": {
  "kernelspec": {
   "display_name": "langchain_env",
   "language": "python",
   "name": "langchain_env"
  },
  "language_info": {
   "codemirror_mode": {
    "name": "ipython",
    "version": 3
   },
   "file_extension": ".py",
   "mimetype": "text/x-python",
   "name": "python",
   "nbconvert_exporter": "python",
   "pygments_lexer": "ipython3",
   "version": "3.12.3"
  }
 },
 "nbformat": 4,
 "nbformat_minor": 5
}
